{
  "nbformat": 4,
  "nbformat_minor": 0,
  "metadata": {
    "colab": {
      "name": "Karen Gishyan: Monk Model-Retinanet",
      "provenance": [],
      "collapsed_sections": []
    },
    "kernelspec": {
      "name": "python3",
      "display_name": "Python 3"
    },
    "accelerator": "GPU"
  },
  "cells": [
    {
      "cell_type": "code",
      "metadata": {
        "id": "Cjj6JUaqSsKa",
        "colab_type": "code",
        "colab": {}
      },
      "source": [
        "#Mounting to Google Drive\n",
        "from google.colab import drive\n",
        "drive.mount('/content/drive')"
      ],
      "execution_count": null,
      "outputs": []
    },
    {
      "cell_type": "code",
      "metadata": {
        "id": "xKmdB7OR7aJa",
        "colab_type": "code",
        "colab": {}
      },
      "source": [
        "!pip install GitPython\n",
        "!pip install --force https://github.com/chengs/tqdm/archive/colab.zip"
      ],
      "execution_count": null,
      "outputs": []
    },
    {
      "cell_type": "code",
      "metadata": {
        "id": "FwhieaVL6MbI",
        "colab_type": "code",
        "colab": {}
      },
      "source": [
        "import git\n",
        "import subprocess\n",
        "import shutil\n",
        "import os\n",
        "import sys\n",
        "\n",
        "class Retinanet:\n",
        "\n",
        "  def __init__(self,working_dir=None):\n",
        "    self.cwd=working_dir if working_dir != None else \"/content\"\n",
        "  \n",
        "  @staticmethod\n",
        "  def import_model(cwd):\n",
        "\n",
        "    #url=\"https://github.com/roboflow-ai/Monk_Object_Detection\"\n",
        "    url=\"https://github.com/karen-gishyan/Computer-vision-and-Drones-Thesis\"\n",
        "    repo_name=os.path.basename(url)\n",
        "    path=os.path.join(cwd,repo_name) \n",
        "    print(path)\n",
        "    \n",
        "    if  not os.path.exists(path):\n",
        "      git.Git(cwd).clone(url)\n",
        "    \n",
        "    else:    \n",
        "      user_input=input(\"Non_Empty directory, replace? press y for Yes, n for No:\")\n",
        "      if user_input==\"y\":\n",
        "        shutil.rmtree(path)\n",
        "        git.Git(cwd).clone(url)\n",
        " \n",
        "    os.chdir(\"/content/Computer-vision-and-Drones-Thesis/models/Modified Monk Retinanet/installation\")\n",
        "    subprocess.check_call([sys.executable, \"-m\", \"pip\", \"install\", \"-r\", \"requirements.txt\"])\n",
        "    #subprocess.check_call([sys.executable, \"-m\", \"pip\", \"install\", \"-r\", \"requirements_colab.txt\"])\n",
        "    os.chdir(\"/content\")\n",
        "    print(\"Requrements installed.\")\n",
        "  \n",
        "  \n",
        "cwd=\"/content/\"\n",
        "Retinanet().import_model(cwd)"
      ],
      "execution_count": null,
      "outputs": []
    },
    {
      "cell_type": "code",
      "metadata": {
        "id": "JN0kttsqlJBs",
        "colab_type": "code",
        "colab": {}
      },
      "source": [
        "#! cd Monk_Object_Detection/3_mxrcnn/installation && cat requirements_colab.txt | xargs -n 1 -L 1 pip install"
      ],
      "execution_count": null,
      "outputs": []
    },
    {
      "cell_type": "code",
      "metadata": {
        "id": "SBwdlPV4ki5U",
        "colab_type": "code",
        "colab": {}
      },
      "source": [
        "!rm -rf /content/Root_Dir"
      ],
      "execution_count": null,
      "outputs": []
    },
    {
      "cell_type": "code",
      "metadata": {
        "id": "wVivtF8FCgCN",
        "colab_type": "code",
        "colab": {
          "base_uri": "https://localhost:8080/",
          "height": 35
        },
        "outputId": "eabed67e-c0fe-48d2-c99a-d7599f8c4e78"
      },
      "source": [
        "import os\n",
        "import shutil\n",
        "\n",
        "\n",
        "if not os.path.exists(\"/content/Root_Dir\"): os.makedirs(\"/content/Root_Dir\")\n",
        "\n",
        "if not os.path.exists(\"/content/Coco_style\") :os.makedirs(\"/content/Coco_style\")\n",
        "if not os.path.exists(\"/content/Coco_style/images\") :os.makedirs(\"/content/Coco_style/images\")\n",
        "if not os.path.exists(\"/content/Coco_style/annotations\") :os.makedirs(\"/content/Coco_style/annotations\")\n",
        "\n",
        "shutil.move(\"/content/Coco_style\",\"/content/Root_Dir\")"
      ],
      "execution_count": null,
      "outputs": [
        {
          "output_type": "execute_result",
          "data": {
            "application/vnd.google.colaboratory.intrinsic+json": {
              "type": "string"
            },
            "text/plain": [
              "'/content/Root_Dir/Coco_style'"
            ]
          },
          "metadata": {
            "tags": []
          },
          "execution_count": 13
        }
      ]
    },
    {
      "cell_type": "code",
      "metadata": {
        "id": "6AOCzymalqgZ",
        "colab_type": "code",
        "colab": {
          "base_uri": "https://localhost:8080/",
          "height": 35
        },
        "outputId": "73188446-89ff-4772-dcd9-40bcc10b1f59"
      },
      "source": [
        "import shutil\n",
        "\n",
        "\n",
        "train_img_path=\"/content/drive/My Drive/Bath thesis/Final-Data/Augmentation Mosaic (3,4)/train_images\"\n",
        "train_annot_path=\"/content/drive/My Drive/Bath thesis/Final-Data/Augmentation Mosaic (3,4)/instances_Train.json\"\n",
        "valid_img_path=\"/content/drive/My Drive/Bath thesis/Final-Data/Not Augmented/valid_images\"\n",
        "valid_annot_path=\"/content/drive/My Drive/Bath thesis/Final-Data/Not Augmented/instances_Val.json\"\n",
        "classes_path=\"/content/drive/My Drive/Bath thesis/Final-Data/Not Augmented/classes alphabetical.txt\"\n",
        "\n",
        "def copy_to_root(train_img_path=train_img_path,valid_img_ath=valid_img_path,train_annot_path=train_annot_path,valid_annot_path=valid_annot_path,classes_path=classes_path):\n",
        "  shutil.copytree(train_img_path,\"/content/Root_Dir/Coco_style/images/Train\")\n",
        "  shutil.copytree(valid_img_path,\"/content/Root_Dir/Coco_style/images/Val\")\n",
        "  shutil.copy(train_annot_path,\"/content/Root_Dir/Coco_style/annotations\")\n",
        "  shutil.copy(valid_annot_path,\"/content/Root_Dir/Coco_style/annotations\")\n",
        "  shutil.copy(classes_path,\"/content/Root_Dir/Coco_style/annotations\")\n",
        "  os.rename(\"/content/Root_Dir/Coco_style/annotations/classes alphabetical.txt\",\"/content/Root_Dir/Coco_style/annotations/classes.txt\")\n",
        "  print(\"Done\")\n",
        "\n",
        "copy_to_root()"
      ],
      "execution_count": null,
      "outputs": [
        {
          "output_type": "stream",
          "text": [
            "Done\n"
          ],
          "name": "stdout"
        }
      ]
    },
    {
      "cell_type": "code",
      "metadata": {
        "id": "4TSxGP1oUDR7",
        "colab_type": "code",
        "colab": {
          "base_uri": "https://localhost:8080/",
          "height": 35
        },
        "outputId": "fb72608b-a9c4-4ac5-8349-66ba24539273"
      },
      "source": [
        "train_num_img=sum([1 for i in os.listdir(\"/content/Root_Dir/Coco_style/images/Train\")])\n",
        "valid_num_img=sum([1 for i in os.listdir(\"/content/Root_Dir/Coco_style/images/Val\")])\n",
        "#labels=sum([1 for i in os.listdir(\"/content/drive/My Drive/Bath thesis/Final-Data/Augmentation 2/train_annotations_yolo\")])\n",
        "#print(\"There are {} train labels.\".format(labels))\n",
        "\n",
        "print(\"There are {} train images and {} valid images.\".format(train_num_img,valid_num_img))"
      ],
      "execution_count": null,
      "outputs": [
        {
          "output_type": "stream",
          "text": [
            "There are 1400 train images and 200 valid images.\n"
          ],
          "name": "stdout"
        }
      ]
    },
    {
      "cell_type": "code",
      "metadata": {
        "id": "WtB8u6BY8GRt",
        "colab_type": "code",
        "colab": {}
      },
      "source": [
        "#This seems to be a stable version, with pip install 0.7.0 started to give errors.\n",
        "!pip uninstall torchvision\n",
        "!pip install torchvision==0.5.0 -f https://download.pytorch.org/whl/torch_stable.html"
      ],
      "execution_count": null,
      "outputs": []
    },
    {
      "cell_type": "code",
      "metadata": {
        "id": "h96uYDuv9IVl",
        "colab_type": "code",
        "colab": {
          "base_uri": "https://localhost:8080/",
          "height": 35
        },
        "outputId": "d1723da7-d2d6-4fd7-d446-b2240b7668f7"
      },
      "source": [
        "import torch \n",
        "print(torch.__version__)"
      ],
      "execution_count": null,
      "outputs": [
        {
          "output_type": "stream",
          "text": [
            "1.4.0+cu92\n"
          ],
          "name": "stdout"
        }
      ]
    },
    {
      "cell_type": "code",
      "metadata": {
        "id": "WiCwQeJ1hBBa",
        "colab_type": "code",
        "colab": {}
      },
      "source": [
        "#Cloning Monk's Repository.\n",
        "#! git clone https://github.com/Tessellate-Imaging/Monk_Object_Detection.git\n",
        "#! cd Monk_Object_Detection/4_efficientdet/installation && cat requirements_colab.txt | xargs -n 1 -L 1 pip install"
      ],
      "execution_count": null,
      "outputs": []
    },
    {
      "cell_type": "code",
      "metadata": {
        "id": "hmqdshbO63KQ",
        "colab_type": "code",
        "colab": {}
      },
      "source": [
        "#!pip install efficientnet_pytorch\n",
        "#!pip install tensorboardx\n",
        "#https://github.com/Tessellate-Imaging/Monk_Object_Detection/blob/master/example_notebooks/5_pytorch_retinanet/Train%20Resnet18%20-%20With%20validation%20Dataset.ipynb\n",
        "\n",
        "%%time\n",
        "import os\n",
        "os.chdir(\"/content/Computer-vision-and-Drones-Thesis/models/Modified Monk Retinanet/lib\")\n",
        "from train_detector import Detector\n",
        "model = Detector();\n",
        "\n",
        "os.chdir(\"/content/\")\n",
        "\n",
        "troot_dir = \"Root_Dir\";\n",
        "tcoco_dir = \"Coco_style\";\n",
        "timg_dir = \"images\";\n",
        "tset_dir = \"Train\";\n",
        "\n",
        "vroot_dir = \"Root_Dir\";\n",
        "vcoco_dir = \"Coco_style\";\n",
        "vimg_dir = \"images\";\n",
        "vset_dir = \"Val\";\n",
        "\n",
        "model.Train_Dataset(troot_dir, tcoco_dir, timg_dir, tset_dir, batch_size=2, image_size=1056, use_gpu=True)\n",
        "model.Val_Dataset(vroot_dir, vcoco_dir, vimg_dir, vset_dir)\n",
        "\n",
        "model.Model(model_name=\"resnet34\");  # resnet 50 brought cuda memory-error.\n",
        "model.Set_Hyperparams(lr=0.0001, val_interval=1, print_interval=150) #prints and logs once every 50 iterations.\n",
        "model.Train(num_epochs=25,output_model_name=\"karen_model_retinanet.pt\");"
      ],
      "execution_count": null,
      "outputs": []
    },
    {
      "cell_type": "code",
      "metadata": {
        "id": "2rTFZXcE2ijv",
        "colab_type": "code",
        "colab": {}
      },
      "source": [
        "#Inference model.\n",
        "os.chdir(\"/content/Computer-vision-and-Drones-Thesis/models/Modified Monk Retinanet/lib\")\n",
        "from infer_detector import Infer\n",
        "model = Infer();\n",
        "#model.Model(model_path=\"/content/karen_model.pt\");\n",
        "model.Model(model_path=\"/content/karen_retinanet_model.pt\")\n"
      ],
      "execution_count": null,
      "outputs": []
    },
    {
      "cell_type": "code",
      "metadata": {
        "id": "AudrX6A2eGdd",
        "colab_type": "code",
        "colab": {
          "base_uri": "https://localhost:8080/",
          "height": 35
        },
        "outputId": "d3de1c07-c70d-4616-f1ef-9d27e3a14f35"
      },
      "source": [
        "import shutil\n",
        "shutil.copy(\"/content/drive/My Drive/Bath thesis/Final-Data/Augmentation 2/karen_retinanet_model.pt\",\"/content\")\n",
        "shutil.copy(\"/content/drive/My Drive/Bath thesis/Final-Data/Not Augmented/classes.txt\",\"/content\")"
      ],
      "execution_count": null,
      "outputs": [
        {
          "output_type": "execute_result",
          "data": {
            "application/vnd.google.colaboratory.intrinsic+json": {
              "type": "string"
            },
            "text/plain": [
              "'/content/classes.txt'"
            ]
          },
          "metadata": {
            "tags": []
          },
          "execution_count": 4
        }
      ]
    },
    {
      "cell_type": "code",
      "metadata": {
        "id": "nuE9uQf5K0WH",
        "colab_type": "code",
        "colab": {
          "base_uri": "https://localhost:8080/",
          "height": 87
        },
        "outputId": "df803ca7-bbd7-4adb-b990-b0193fff760a"
      },
      "source": [
        "import os\n",
        "from IPython.display import Image\n",
        "\n",
        "class_list=[]\n",
        "with open(\"/content/classes.txt\") as file:\n",
        "  for line in file:\n",
        "    class_list.append(line.rstrip(\"\\n\"))\n",
        "\n",
        "#class_list=class_list[:-1]\n",
        "print(class_list)\n",
        "img_p=\"/content/drive/My Drive/Bath thesis/Final-Data/Not Augmented/test_images\"\n",
        "\n",
        "for img in os.listdir(img_p):\n",
        "  image=os.path.join(img_p,img)\n",
        "  try:\n",
        "    scores, labels, boxes = model.Predict(image, class_list, vis_threshold=0.7);\n",
        "    Image(filename='output.jpg')\n",
        "  except:\n",
        "    print(\"Stopped here\")\n",
        "print(\"Done\")"
      ],
      "execution_count": null,
      "outputs": [
        {
          "output_type": "stream",
          "text": [
            "['Pedestrian', 'Person', 'Bycicle', 'Car', 'Van/Small-Truck', 'Big-Truck', 'Bus']\n",
            "No Boxes detected\n",
            "Stopped here\n",
            "Done\n"
          ],
          "name": "stdout"
        }
      ]
    },
    {
      "cell_type": "code",
      "metadata": {
        "id": "L85XcNkz8xyl",
        "colab_type": "code",
        "colab": {}
      },
      "source": [
        "#There should be no spaces in the image name for it to work.\n",
        "#Downloading inferenced images.\n",
        "\n",
        "!zip -r /content/retinanet_inference.zip /content/Computer-vision-and-Drones-Thesis/models/Modified_Monk_Retinanet/lib/Inference"
      ],
      "execution_count": null,
      "outputs": []
    },
    {
      "cell_type": "code",
      "metadata": {
        "id": "lW1o0w1FIl2-",
        "colab_type": "code",
        "colab": {
          "base_uri": "https://localhost:8080/",
          "height": 35
        },
        "outputId": "43b06b14-05b9-4109-89b2-09bce95442d0"
      },
      "source": [
        "#Saving weights.\n",
        "shutil.copy(\"/content/karen_model_retina.pt\",\"/content/drive/My Drive/Bath thesis/Final-Data/Augmentation 3 new new\")"
      ],
      "execution_count": null,
      "outputs": [
        {
          "output_type": "execute_result",
          "data": {
            "application/vnd.google.colaboratory.intrinsic+json": {
              "type": "string"
            },
            "text/plain": [
              "'/content/drive/My Drive/Bath thesis/Final-Data/Augmentation 3 new new/karen_model.pt'"
            ]
          },
          "metadata": {
            "tags": []
          },
          "execution_count": 11
        }
      ]
    }
  ]
}