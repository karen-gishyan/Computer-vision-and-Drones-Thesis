{
  "nbformat": 4,
  "nbformat_minor": 0,
  "metadata": {
    "colab": {
      "name": "Karen Gishyan_ Monk Model-Efficientdet.ipynb",
      "provenance": [],
      "collapsed_sections": []
    },
    "kernelspec": {
      "name": "python3",
      "display_name": "Python 3"
    },
    "accelerator": "GPU"
  },
  "cells": [
    {
      "cell_type": "code",
      "metadata": {
        "id": "iR3-CQ4eZHWi",
        "colab_type": "code",
        "colab": {
          "base_uri": "https://localhost:8080/",
          "height": 124
        },
        "outputId": "89e899ae-5240-418d-cc24-b17a20989b84"
      },
      "source": [
        "#Mounting to Google Drive.\n",
        "from google.colab import drive\n",
        "drive.mount('/content/drive')"
      ],
      "execution_count": 1,
      "outputs": [
        {
          "output_type": "stream",
          "text": [
            "Go to this URL in a browser: https://accounts.google.com/o/oauth2/auth?client_id=947318989803-6bn6qk8qdgf4n4g3pfee6491hc0brc4i.apps.googleusercontent.com&redirect_uri=urn%3aietf%3awg%3aoauth%3a2.0%3aoob&scope=email%20https%3a%2f%2fwww.googleapis.com%2fauth%2fdocs.test%20https%3a%2f%2fwww.googleapis.com%2fauth%2fdrive%20https%3a%2f%2fwww.googleapis.com%2fauth%2fdrive.photos.readonly%20https%3a%2f%2fwww.googleapis.com%2fauth%2fpeopleapi.readonly&response_type=code\n",
            "\n",
            "Enter your authorization code:\n",
            "··········\n",
            "Mounted at /content/drive\n"
          ],
          "name": "stdout"
        }
      ]
    },
    {
      "cell_type": "code",
      "metadata": {
        "id": "RiCPUCG9kE39",
        "colab_type": "code",
        "colab": {
          "base_uri": "https://localhost:8080/",
          "height": 315
        },
        "outputId": "2f5bee59-23d4-41d2-a565-b2e91baf4f7b"
      },
      "source": [
        "!pip install GitPython\n",
        "!pip install --force https://github.com/chengs/tqdm/archive/colab.zip"
      ],
      "execution_count": 10,
      "outputs": [
        {
          "output_type": "stream",
          "text": [
            "Requirement already satisfied: GitPython in /usr/local/lib/python3.6/dist-packages (3.1.7)\n",
            "Requirement already satisfied: gitdb<5,>=4.0.1 in /usr/local/lib/python3.6/dist-packages (from GitPython) (4.0.5)\n",
            "Requirement already satisfied: smmap<4,>=3.0.1 in /usr/local/lib/python3.6/dist-packages (from gitdb<5,>=4.0.1->GitPython) (3.0.4)\n",
            "Collecting https://github.com/chengs/tqdm/archive/colab.zip\n",
            "  Using cached https://github.com/chengs/tqdm/archive/colab.zip\n",
            "Building wheels for collected packages: tqdm\n",
            "  Building wheel for tqdm (setup.py) ... \u001b[?25l\u001b[?25hdone\n",
            "  Created wheel for tqdm: filename=tqdm-4.28.1-py2.py3-none-any.whl size=47867 sha256=5b1f532d0b3dd2470215125bd1cfd70a33ca057ac89a9901e3cfd788024bc963\n",
            "  Stored in directory: /tmp/pip-ephem-wheel-cache-ki9b8_c5/wheels/41/18/ee/d5dd158441b27965855b1bbae03fa2d8a91fe645c01b419896\n",
            "Successfully built tqdm\n",
            "\u001b[31mERROR: spacy 2.2.4 has requirement tqdm<5.0.0,>=4.38.0, but you'll have tqdm 4.28.1 which is incompatible.\u001b[0m\n",
            "Installing collected packages: tqdm\n",
            "  Found existing installation: tqdm 4.28.1\n",
            "    Uninstalling tqdm-4.28.1:\n",
            "      Successfully uninstalled tqdm-4.28.1\n",
            "Successfully installed tqdm-4.28.1\n"
          ],
          "name": "stdout"
        }
      ]
    },
    {
      "cell_type": "code",
      "metadata": {
        "id": "BM2Qu_m2ab4P",
        "colab_type": "code",
        "colab": {
          "base_uri": "https://localhost:8080/",
          "height": 52
        },
        "outputId": "da9709da-e6eb-4c50-b3cf-c5cacea3451b"
      },
      "source": [
        "import git\n",
        "import subprocess\n",
        "import shutil\n",
        "import os\n",
        "import sys\n",
        "\n",
        "class EfficientDet:\n",
        "\n",
        "  def __init__(self,working_dir=None):\n",
        "    self.cwd=working_dir if working_dir != None else \"/content\"\n",
        "  \n",
        "  @staticmethod\n",
        "  def import_model(cwd):\n",
        "\n",
        "    #url=\"https://github.com/Tessellate-Imaging/Monk_Object_Detection\"\n",
        "    url=\"https://github.com/karen-gishyan/Computer-vision-and-Drones-Thesis\"\n",
        "    repo_name=os.path.basename(url)\n",
        "    path=os.path.join(cwd,repo_name) \n",
        "    print(path)\n",
        "    \n",
        "    if  not os.path.exists(path):\n",
        "      os.chdir(\"/content\")\n",
        "      git.Git(cwd).clone(url)\n",
        "    \n",
        "    else:    \n",
        "      user_input=input(\"Non_Empty directory, replace? press y for Yes, n for No:\")\n",
        "      if user_input==\"y\":\n",
        "        shutil.rmtree(path)\n",
        "        git.Git(cwd).clone(url)\n",
        " \n",
        "    os.chdir(\"Computer-vision-and-Drones-Thesis/models/Modified Monk Efficiendet/installation/\")\n",
        "    subprocess.check_call([sys.executable, \"-m\", \"pip\", \"install\", \"-r\", \"requirements.txt\"])\n",
        "    os.chdir(\"/content/\")\n",
        "    print(\"Requrements installed.\")\n",
        "      \n",
        "cwd=\"/content/\"\n",
        "EfficientDet().import_model(cwd)"
      ],
      "execution_count": 3,
      "outputs": [
        {
          "output_type": "stream",
          "text": [
            "/content/Computer-vision-and-Drones-Thesis\n",
            "Requrements installed.\n"
          ],
          "name": "stdout"
        }
      ]
    },
    {
      "cell_type": "code",
      "metadata": {
        "id": "i3_VGwkUJ6gX",
        "colab_type": "code",
        "colab": {}
      },
      "source": [
        "# !git clone https://github.com/Tessellate-Imaging/Monk_Object_Detection\n",
        "# os.chdir(\"/content/Monk_Object_Detection/10_pytorch_efficientdet/installation\")\n",
        "# subprocess.check_call([sys.executable, \"-m\", \"pip\", \"install\", \"-r\", \"requirements_colab.txt\"])\n",
        "# subprocess.check_call([sys.executable, \"-m\", \"pip\", \"install\", \"-r\", \"requirements_cuda10.1.txt\"])    "
      ],
      "execution_count": null,
      "outputs": []
    },
    {
      "cell_type": "code",
      "metadata": {
        "id": "EFTg5u1XbOPq",
        "colab_type": "code",
        "colab": {
          "base_uri": "https://localhost:8080/",
          "height": 35
        },
        "outputId": "0126217d-5615-4975-d887-1579c00345fa"
      },
      "source": [
        "if not os.path.exists(\"/content/Root_Dir\"): os.makedirs(\"/content/Root_Dir\")\n",
        "if not os.path.exists(\"/content/Coco_style\") :os.makedirs(\"/content/Coco_style\")\n",
        "if not os.path.exists(\"/content/Coco_style/images\") :os.makedirs(\"/content/Coco_style/images\")\n",
        "if not os.path.exists(\"/content/Coco_style/annotations\") :os.makedirs(\"/content/Coco_style/annotations\")\n",
        "\n",
        "shutil.move(\"/content/Coco_style\",\"/content/Root_Dir\")"
      ],
      "execution_count": 11,
      "outputs": [
        {
          "output_type": "execute_result",
          "data": {
            "application/vnd.google.colaboratory.intrinsic+json": {
              "type": "string"
            },
            "text/plain": [
              "'/content/Root_Dir/Coco_style'"
            ]
          },
          "metadata": {
            "tags": []
          },
          "execution_count": 11
        }
      ]
    },
    {
      "cell_type": "code",
      "metadata": {
        "id": "5_Xs3rCAcz_D",
        "colab_type": "code",
        "colab": {}
      },
      "source": [
        "#From Google Drive to the working dir, takes time.\n",
        "\n",
        "\n",
        "train_img_path=\"/content/drive/My Drive/Bath Thesis/Augmentation 1/train_images\"\n",
        "train_annot_path=\"/content/drive/My Drive/Bath Thesis/Augmentation 1/train_annotations_json/instances_Train.json\"\n",
        "valid_img_path=\"/content/drive/My Drive/Bath Thesis/Not Augmented/valid_images\"\n",
        "valid_annot_path=\"/content/drive/My Drive/Bath Thesis/Not Augmented/instances_Val.json\"\n",
        "classes_path=\"/content/drive/My Drive/Bath Thesis/classes alphabetical.txt\"\n",
        "\n",
        "def copy_to_root(train_img_path=train_img_path,valid_img_ath=valid_img_path,train_annot_path=train_annot_path,valid_annot_path=valid_annot_path,classes_path=classes_path):\n",
        "  shutil.copytree(train_img_path,\"/content/Root_Dir/Coco_style/images/Train\")\n",
        "  shutil.copytree(valid_img_path,\"/content/Root_Dir/Coco_style/images/Val\")\n",
        "  shutil.copy(train_annot_path,\"/content/Root_Dir/Coco_style/annotations\")\n",
        "  shutil.copy(valid_annot_path,\"/content/Root_Dir/Coco_style/annotations\")\n",
        "  shutil.copy(classes_path,\"/content/Root_Dir/Coco_style/annotations\")\n",
        "  os.rename(\"/content/Root_Dir/Coco_style/annotations/classes alphabetical.txt\",\"/content/Root_Dir/Coco_style/annotations/classes.txt\")\n",
        "  print(\"Done\")\n",
        "copy_to_root()"
      ],
      "execution_count": null,
      "outputs": []
    },
    {
      "cell_type": "code",
      "metadata": {
        "id": "qnhg6tFOIVhx",
        "colab_type": "code",
        "colab": {
          "base_uri": "https://localhost:8080/",
          "height": 35
        },
        "outputId": "37a8b1e2-9d38-4030-b15b-dbc1ecf2662c"
      },
      "source": [
        "train_num_img=sum([1 for i in os.listdir(\"/content/Root_Dir/Coco_style/images/Train\")])\n",
        "valid_num_img=sum([1 for i in os.listdir(\"/content/Root_Dir/Coco_style/images/Val\")])\n",
        "print(\"There are {} train images and {} valid images.\".format(train_num_img,valid_num_img))"
      ],
      "execution_count": 15,
      "outputs": [
        {
          "output_type": "stream",
          "text": [
            "There are 1400 train images and 200 valid images.\n"
          ],
          "name": "stdout"
        }
      ]
    },
    {
      "cell_type": "code",
      "metadata": {
        "id": "VHdWEjc4OWI6",
        "colab_type": "code",
        "colab": {}
      },
      "source": [
        "#If Pillow version error, change it to __version__.\n",
        "# when cuda out of memory, decrease the batch size.\n",
        "# 8 batch size means 1400/8= 175 iterations.\n",
        "# 2 batch size means 1400/2 =700 iterations.\n",
        "#val interval-how often you want the losses to be displayed."
      ],
      "execution_count": null,
      "outputs": []
    },
    {
      "cell_type": "code",
      "metadata": {
        "id": "QZQP0fPVbhBn",
        "colab_type": "code",
        "colab": {}
      },
      "source": [
        "#Cloning Monk's Repository.\n",
        "#! git clone https://github.com/Tessellate-Imaging/Monk_Object_Detection.git\n",
        "#! cd Monk_Object_Detection/4_efficientdet/installation && cat requirements_colab.txt | xargs -n 1 -L 1 pip install"
      ],
      "execution_count": null,
      "outputs": []
    },
    {
      "cell_type": "code",
      "metadata": {
        "id": "xC227K52fnJR",
        "colab_type": "code",
        "colab": {}
      },
      "source": [
        "%%time\n",
        "import os\n",
        "os.chdir(\"/content/Computer-vision-and-Drones-Thesis/models/Modified Monk Efficiendet/lib\")\n",
        "\n",
        "#os.chdir(\"/content/Monk_Object_Detection/4_efficientdet/lib/\")\n",
        "\n",
        "from train_detector_custom import Detector\n",
        "model = Detector();\n",
        "\n",
        "os.chdir(\"/content/\")\n",
        "\n",
        "#Train dirs.\n",
        "troot_dir = \"Root_Dir\";\n",
        "tcoco_dir = \"Coco_style\";\n",
        "timg_dir = \"images\";\n",
        "tset_dir = \"Train\";\n",
        "\n",
        "#Valid dirs.\n",
        "vroot_dir = \"Root_Dir\";\n",
        "vcoco_dir = \"Coco_style\";\n",
        "vimg_dir = \"images\";\n",
        "vset_dir = \"Val\";\n",
        "\n",
        "model.Train_Dataset(troot_dir, tcoco_dir, timg_dir, tset_dir, batch_size=8, image_size=352,use_gpu=True)\n",
        "model.Val_Dataset(vroot_dir, vcoco_dir, vimg_dir, vset_dir)\n",
        "\n",
        "#Somehow  b3, b4 and b7 also worked with 352.\n",
        "model.Model(model_name=\"efficientnet-b1\",load_pretrained_model_from=\"/content/signatrix_efficientdet_coco.pth\"); #weights are 30.1M.\n",
        "model.Set_Hyperparams(lr=0.0001, val_interval=1, es_min_delta=0.0, es_patience=0) # val_interval, how often (epochs) you want the val loss to be calculated.\n",
        "model.Train(num_epochs=3)"
      ],
      "execution_count": null,
      "outputs": []
    },
    {
      "cell_type": "code",
      "metadata": {
        "id": "TOHSNjhIxZmk",
        "colab_type": "code",
        "colab": {
          "base_uri": "https://localhost:8080/",
          "height": 35
        },
        "outputId": "b6c5b1ae-b1e1-467a-e1bd-6e37642bd387"
      },
      "source": [
        "import shutil\n",
        "shutil.copy(\"/content/drive/My Drive/Bath Thesis/Not Augmented/signatrix_efficientdet_coco.pth\",\"/content\")"
      ],
      "execution_count": 5,
      "outputs": [
        {
          "output_type": "execute_result",
          "data": {
            "application/vnd.google.colaboratory.intrinsic+json": {
              "type": "string"
            },
            "text/plain": [
              "'/content/signatrix_efficientdet_coco.pth'"
            ]
          },
          "metadata": {
            "tags": []
          },
          "execution_count": 5
        }
      ]
    },
    {
      "cell_type": "code",
      "metadata": {
        "id": "yjbDMjMt2-nZ",
        "colab_type": "code",
        "colab": {}
      },
      "source": [
        "#The chart displays both the training and validation losses. \n",
        "%load_ext tensorboard # happens through summary writer.\n",
        "%tensorboard --logdir /content/tensorboard/signatrix_efficientdet_coco"
      ],
      "execution_count": null,
      "outputs": []
    },
    {
      "cell_type": "code",
      "metadata": {
        "id": "-SQw87Ydrpva",
        "colab_type": "code",
        "colab": {}
      },
      "source": [
        "#Tensorboard output to csv.\n",
        "#https://stackoverflow.com/questions/42355122/can-i-export-a-tensorflow-summary-to-csv.\n",
        "\n",
        "import os\n",
        "import numpy as np\n",
        "import pandas as pd\n",
        "\n",
        "from collections import defaultdict\n",
        "from tensorboard.backend.event_processing.event_accumulator import EventAccumulator\n",
        "\n",
        "\n",
        "def tabulate_events(dpath):\n",
        "    summary_iterators = [EventAccumulator(os.path.join(dpath, dname)).Reload() for dname in os.listdir(dpath)]\n",
        "\n",
        "    tags = summary_iterators[0].Tags()['scalars']\n",
        "\n",
        "    for it in summary_iterators:\n",
        "        assert it.Tags()['scalars'] == tags\n",
        "\n",
        "    out = defaultdict(list)\n",
        "    steps = []\n",
        "\n",
        "    for tag in tags:\n",
        "        steps = [e.step for e in summary_iterators[0].Scalars(tag)]\n",
        "\n",
        "        for events in zip(*[acc.Scalars(tag) for acc in summary_iterators]):\n",
        "            assert len(set(e.step for e in events)) == 1\n",
        "\n",
        "            out[tag].append([e.value for e in events])\n",
        "\n",
        "    return out, steps\n",
        "\n",
        "\n",
        "def to_csv(dpath):\n",
        "    dirs = os.listdir(dpath)\n",
        "\n",
        "    d, steps = tabulate_events(dpath)\n",
        "    tags, values = zip(*d.items())\n",
        "    np_values = np.array(values)\n",
        "\n",
        "    for index, tag in enumerate(tags):\n",
        "        df = pd.DataFrame(np_values[index], index=steps, columns=dirs)\n",
        "        df.to_csv(get_file_path(dpath, tag))\n",
        "\n",
        "\n",
        "def get_file_path(dpath, tag):\n",
        "    file_name = tag.replace(\"/\", \"_\") + '.csv'\n",
        "    folder_path = os.path.join(dpath, 'csv')\n",
        "    if not os.path.exists(folder_path):\n",
        "        os.makedirs(folder_path)\n",
        "    return os.path.join(folder_path, file_name)\n",
        "\n",
        "\n",
        "if __name__ == '__main__':\n",
        "    path = \"/content/tensorboard/signatrix_efficientdet_coco\"\n",
        "    to_csv(path)"
      ],
      "execution_count": 3,
      "outputs": []
    },
    {
      "cell_type": "code",
      "metadata": {
        "id": "dwCE2o9n3tIH",
        "colab_type": "code",
        "colab": {}
      },
      "source": [
        "#Image Inference.\n",
        "import os\n",
        "from IPython.display import Image\n",
        "\n",
        "class_list=[]\n",
        "with open(\"/content/drive/My Drive/Bath Thesis/classes.txt\") as file:\n",
        "  for line in file:\n",
        "    class_list.append(line.rstrip(\"\\n\"))\n",
        "print(class_list)\n",
        "\n",
        "os.chdir(\"/content/Computer-vision-and-Drones-Thesis/models/Modified Monk Efficiendet/lib\")\n",
        "\n",
        "from infer_detector import Infer\n",
        "model=Infer()\n",
        "model.Model(model_dir=\"/content/trained\")\n",
        "\n",
        "img_p=\"/content/drive/My Drive/Bath Thesis/Not Augmented/test_images\"\n",
        "for img in os.listdir(img_p):\n",
        "  image=os.path.join(img_p,img)\n",
        "  print(image)\n",
        "  try:\n",
        "    scores, labels, boxes = model.Predict(image, class_list, vis_threshold=0.7);\n",
        "    Image(filename='output.jpg')\n",
        "  except Exception as e:\n",
        "    print(\"Stopped on\",image)\n",
        "    print(e)\n",
        "print(\"Done\")"
      ],
      "execution_count": null,
      "outputs": []
    },
    {
      "cell_type": "code",
      "metadata": {
        "id": "Yf7vPzk_CviL",
        "colab_type": "code",
        "colab": {}
      },
      "source": [
        "#Video Detection\n",
        "import os\n",
        "os.chdir(\"/content/Computer-vision-and-Drones-Thesis/models/Modified Monk Efficiendet/lib\")\n",
        "\n",
        "#256 worked. 512 worked.\n",
        "!python test_video.py --pretrained_model /content/trained/signatrix_efficientdet_coco.pth --image_size 256 --input /content/videoplayback.mp4 --output /content/videoplayback_inference2.mp4\n",
        " "
      ],
      "execution_count": null,
      "outputs": []
    },
    {
      "cell_type": "code",
      "metadata": {
        "id": "EDjRgbuTERZB",
        "colab_type": "code",
        "colab": {
          "base_uri": "https://localhost:8080/",
          "height": 35
        },
        "outputId": "a2f3f7fd-e558-44ba-b532-5231b83e57bd"
      },
      "source": [
        "import shutil\n",
        "shutil.copy(\"/content/trained/signatrix_efficientdet_coco.pth\",\"/content/drive/My Drive/Bath Thesis/Not Augmented\")\n",
        "#shutil.copytree(\"/content/tensorboard/signatrix_efficientdet_coco\",\"/content/drive/My Drive/Bath Thesis/Not Augmented\")"
      ],
      "execution_count": null,
      "outputs": [
        {
          "output_type": "execute_result",
          "data": {
            "application/vnd.google.colaboratory.intrinsic+json": {
              "type": "string"
            },
            "text/plain": [
              "'/content/drive/My Drive/Bath Thesis/Not Augmented/signatrix_efficientdet_coco.pth'"
            ]
          },
          "metadata": {
            "tags": []
          },
          "execution_count": 7
        }
      ]
    },
    {
      "cell_type": "code",
      "metadata": {
        "id": "QS5ut8xaSpft",
        "colab_type": "code",
        "colab": {
          "base_uri": "https://localhost:8080/",
          "height": 35
        },
        "outputId": "e2d5985a-dcfe-4df6-a4c4-d648fc472670"
      },
      "source": [
        "\n",
        "shutil.copy(\"/content/videoplayback_inference.mp4\",\"/content/drive/My Drive/Bath Thesis/Not Augmented\")"
      ],
      "execution_count": null,
      "outputs": [
        {
          "output_type": "execute_result",
          "data": {
            "application/vnd.google.colaboratory.intrinsic+json": {
              "type": "string"
            },
            "text/plain": [
              "'/content/drive/My Drive/Bath Thesis/Not Augmented/videoplayback_inference.mp4'"
            ]
          },
          "metadata": {
            "tags": []
          },
          "execution_count": 25
        }
      ]
    },
    {
      "cell_type": "code",
      "metadata": {
        "id": "i4XJu-qd4zg4",
        "colab_type": "code",
        "colab": {}
      },
      "source": [
        "#zipping efficiendet.\n",
        "!zip -r efficientdet.zip /content/Computer-vision-and-Drones-Thesis/models/Modified_Monk_Efficiendet"
      ],
      "execution_count": null,
      "outputs": []
    }
  ]
}