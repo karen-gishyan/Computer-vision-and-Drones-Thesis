{
  "nbformat": 4,
  "nbformat_minor": 0,
  "metadata": {
    "colab": {
      "name": "Karen Gishyan: Monk Model-Retinanet",
      "provenance": [],
      "collapsed_sections": []
    },
    "kernelspec": {
      "name": "python3",
      "display_name": "Python 3"
    },
    "accelerator": "GPU"
  },
  "cells": [
    {
      "cell_type": "code",
      "metadata": {
        "id": "Cjj6JUaqSsKa",
        "colab_type": "code",
        "colab": {}
      },
      "source": [
        "#Mounting to Google Drive\n",
        "from google.colab import drive\n",
        "drive.mount('/content/drive')"
      ],
      "execution_count": null,
      "outputs": []
    },
    {
      "cell_type": "code",
      "metadata": {
        "id": "xKmdB7OR7aJa",
        "colab_type": "code",
        "colab": {}
      },
      "source": [
        "!pip install GitPython\n",
        "!pip install --force https://github.com/chengs/tqdm/archive/colab.zip"
      ],
      "execution_count": null,
      "outputs": []
    },
    {
      "cell_type": "code",
      "metadata": {
        "id": "FwhieaVL6MbI",
        "colab_type": "code",
        "colab": {}
      },
      "source": [
        "import git\n",
        "import subprocess\n",
        "import shutil\n",
        "import os\n",
        "import sys\n",
        "\n",
        "class Retinanet:\n",
        "\n",
        "  def __init__(self,working_dir=None):\n",
        "    self.cwd=working_dir if working_dir != None else \"/content\"\n",
        "  \n",
        "  @staticmethod\n",
        "  def import_model(cwd):\n",
        "\n",
        "    #url=\"https://github.com/roboflow-ai/Monk_Object_Detection\"\n",
        "    url=\"https://github.com/karen-gishyan/Computer-vision-and-Drones-Thesis\"\n",
        "    repo_name=os.path.basename(url)\n",
        "    path=os.path.join(cwd,repo_name) \n",
        "    print(path)\n",
        "    \n",
        "    if  not os.path.exists(path):\n",
        "      git.Git(cwd).clone(url)\n",
        "    \n",
        "    else:    \n",
        "      user_input=input(\"Non_Empty directory, replace? press y for Yes, n for No:\")\n",
        "      if user_input==\"y\":\n",
        "        shutil.rmtree(path)\n",
        "        git.Git(cwd).clone(url)\n",
        " \n",
        "    os.chdir(\"/content/Computer-vision-and-Drones-Thesis/models/Modified Monk Retinanet/installation\")\n",
        "    subprocess.check_call([sys.executable, \"-m\", \"pip\", \"install\", \"-r\", \"requirements.txt\"])\n",
        "    subprocess.check_call([sys.executable, \"-m\", \"pip\", \"install\", \"-r\", \"requirements_colab.txt\"])\n",
        "    os.chdir(\"/content\")\n",
        "    print(\"Requrements installed.\")\n",
        "  \n",
        "  \n",
        "cwd=\"/content/\"\n",
        "Retinanet().import_model(cwd)"
      ],
      "execution_count": null,
      "outputs": []
    },
    {
      "cell_type": "code",
      "metadata": {
        "id": "JN0kttsqlJBs",
        "colab_type": "code",
        "colab": {}
      },
      "source": [
        "#! cd Monk_Object_Detection/3_mxrcnn/installation && cat requirements_colab.txt | xargs -n 1 -L 1 pip install"
      ],
      "execution_count": null,
      "outputs": []
    },
    {
      "cell_type": "code",
      "metadata": {
        "id": "wVivtF8FCgCN",
        "colab_type": "code",
        "colab": {}
      },
      "source": [
        "import os\n",
        "import shutil\n",
        "\n",
        "\n",
        "if not os.path.exists(\"/content/Root_Dir\"): os.makedirs(\"/content/Root_Dir\")\n",
        "\n",
        "if not os.path.exists(\"/content/Coco_style\") :os.makedirs(\"/content/Coco_style\")\n",
        "if not os.path.exists(\"/content/Coco_style/images\") :os.makedirs(\"/content/Coco_style/images\")\n",
        "if not os.path.exists(\"/content/Coco_style/annotations\") :os.makedirs(\"/content/Coco_style/annotations\")\n",
        "\n",
        "shutil.move(\"/content/Coco_style\",\"/content/Root_Dir\")"
      ],
      "execution_count": null,
      "outputs": []
    },
    {
      "cell_type": "code",
      "metadata": {
        "id": "6AOCzymalqgZ",
        "colab_type": "code",
        "colab": {}
      },
      "source": [
        "import shutil\n",
        "os.chdir(\"/content/drive/My Drive/Bath thesis/\") # takes some time.\n",
        "\n",
        "train_img_path=\"Final-Data/Augmentation1/Augmentation 1/train_images\"\n",
        "train_annot_path=\"Final-Data/Augmentation1/Augmentation 1/train_annotations_json/instances_Train.json\"\n",
        "valid_img_path=\"Final-Data/1000 images without augmentation/valid_images\"\n",
        "valid_annot_path=\"Final-Data/1000 images without augmentation/instances_Val.json\"\n",
        "classes_path=\"Final-Data/1000 images without augmentation/classes alphabetical.txt\"\n",
        "\n",
        "def copy_to_root(train_img_path=train_img_path,valid_img_ath=valid_img_path,train_annot_path=train_annot_path,valid_annot_path=valid_annot_path,classes_path=classes_path):\n",
        "  shutil.copytree(train_img_path,\"/content/Root_Dir/Coco_style/images/Train\")\n",
        "  shutil.copytree(valid_img_path,\"/content/Root_Dir/Coco_style/images/Val\")\n",
        "  shutil.copy(train_annot_path,\"/content/Root_Dir/Coco_style/annotations\")\n",
        "  shutil.copy(valid_annot_path,\"/content/Root_Dir/Coco_style/annotations\")\n",
        "  shutil.copy(classes_path,\"/content/Root_Dir/Coco_style/annotations\")\n",
        "  os.rename(\"/content/Root_Dir/Coco_style/annotations/classes alphabetical.txt\",\"/content/Root_Dir/Coco_style/annotations/classes.txt\")\n",
        "\n",
        "copy_to_root()"
      ],
      "execution_count": 6,
      "outputs": []
    },
    {
      "cell_type": "code",
      "metadata": {
        "id": "4TSxGP1oUDR7",
        "colab_type": "code",
        "colab": {
          "base_uri": "https://localhost:8080/",
          "height": 34
        },
        "outputId": "d99ad46d-cf38-4628-a61b-675725bac809"
      },
      "source": [
        "train_num_img=sum([1 for i in os.listdir(\"/content/Root_Dir/Coco_style/images/Train\")])\n",
        "valid_num_img=sum([1 for i in os.listdir(\"/content/Root_Dir/Coco_style/images/Val\")])\n",
        "print(\"There are {} train images and {} valid images.\".format(train_num_img,valid_num_img))"
      ],
      "execution_count": 9,
      "outputs": [
        {
          "output_type": "stream",
          "text": [
            "There are 1400 train images and 200 valid images.\n"
          ],
          "name": "stdout"
        }
      ]
    },
    {
      "cell_type": "code",
      "metadata": {
        "id": "hmqdshbO63KQ",
        "colab_type": "code",
        "colab": {}
      },
      "source": [
        "#!pip install efficientnet_pytorch\n",
        "#!pip install tensorboardx\n",
        "\n",
        "#https://github.com/Tessellate-Imaging/Monk_Object_Detection/blob/master/example_notebooks/5_pytorch_retinanet/Train%20Resnet18%20-%20With%20validation%20Dataset.ipynb\n",
        "\n",
        "import os\n",
        "os.chdir(\"/content/Computer-vision-and-Drones-Thesis/models/Modified Monk Retinanet/lib\")\n",
        "from train_detector import Detector\n",
        "model = Detector();\n",
        "\n",
        "os.chdir(\"/content/\")\n",
        "\n",
        "troot_dir = \"Root_Dir\";\n",
        "tcoco_dir = \"Coco_style\";\n",
        "timg_dir = \"images\";\n",
        "tset_dir = \"Train\";\n",
        "\n",
        "\n",
        "\n",
        "vroot_dir = \"Root_Dir\";\n",
        "vcoco_dir = \"Coco_style\";\n",
        "vimg_dir = \"images\";\n",
        "vset_dir = \"Val\";\n",
        "\n",
        "model.Train_Dataset(troot_dir, tcoco_dir, timg_dir, tset_dir, batch_size=8, image_size=352, use_gpu=True)\n",
        "model.Val_Dataset(vroot_dir, vcoco_dir, vimg_dir, vset_dir)\n",
        "\n",
        "model.Model(model_name=\"resnet34\"); # resnet 50 brought cuda memory error.\n",
        "model.Set_Hyperparams(lr=0.0001, val_interval=1, print_interval=20)\n",
        "model.Train(num_epochs=300,output_model_name=\"karen_model.pt\");"
      ],
      "execution_count": null,
      "outputs": []
    },
    {
      "cell_type": "code",
      "metadata": {
        "id": "2rTFZXcE2ijv",
        "colab_type": "code",
        "colab": {}
      },
      "source": [
        "from infer_detector import Infer\n",
        "gtf = Infer();\n",
        "gtf.Model(model_path=\"/content/karen_model.pt\");\n"
      ],
      "execution_count": null,
      "outputs": []
    },
    {
      "cell_type": "code",
      "metadata": {
        "id": "nuE9uQf5K0WH",
        "colab_type": "code",
        "colab": {}
      },
      "source": [
        "#predictions are quite bad at the moment.\n",
        "class_list=[]\n",
        "with open(\"/content/Root_Dir/Coco_style/annotations/classes.txt\") as file:\n",
        "  for line in file:\n",
        "    class_list.append(line.rstrip(\"\\n\"))\n",
        "class_list=class_list[:-1]\n",
        "img_p=\"/content/Images_and_Labels/Images/0000002_00005_d_0000014_jpg.rf.555bf2106d899e56d45da0a48295f04c.jpg\"\n",
        "scores, labels, boxes = gtf.Predict(img_p, class_list, vis_threshold=0.4);\n",
        "from IPython.display import Image\n",
        "Image(filename='output.jpg')"
      ],
      "execution_count": null,
      "outputs": []
    }
  ]
}