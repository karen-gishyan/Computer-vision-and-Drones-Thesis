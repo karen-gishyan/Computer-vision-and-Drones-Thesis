{
  "nbformat": 4,
  "nbformat_minor": 0,
  "metadata": {
    "colab": {
      "name": "Yolo_v5.ipynb",
      "provenance": [],
      "collapsed_sections": [],
      "toc_visible": true
    },
    "kernelspec": {
      "name": "python3",
      "display_name": "Python 3"
    },
    "accelerator": "GPU"
  },
  "cells": [
    {
      "cell_type": "code",
      "metadata": {
        "id": "5qP7em1rT_h1",
        "colab_type": "code",
        "colab": {}
      },
      "source": [
        "from google.colab import drive\n",
        "drive.mount('/content/drive',force_remount=True)"
      ],
      "execution_count": null,
      "outputs": []
    },
    {
      "cell_type": "code",
      "metadata": {
        "id": "vlirtmmZXjBu",
        "colab_type": "code",
        "colab": {}
      },
      "source": [
        "!pip install GitPython\n",
        "!pip install --force https://github.com/chengs/tqdm/archive/colab.zip"
      ],
      "execution_count": null,
      "outputs": []
    },
    {
      "cell_type": "code",
      "metadata": {
        "id": "942IiqzMUE9i",
        "colab_type": "code",
        "colab": {}
      },
      "source": [
        "import git\n",
        "import subprocess\n",
        "import shutil\n",
        "import os\n",
        "import sys\n",
        "\n",
        "class Yolo:\n",
        "\n",
        "  def __init__(self,working_dir=None):\n",
        "    self.cwd=working_dir if working_dir != None else \"/content\"\n",
        "  \n",
        "  @staticmethod\n",
        "  def import_model(cwd):\n",
        "    \n",
        "    url=\"https://github.com/ultralytics/yolov5\"\n",
        "    repo_name=os.path.basename(url)\n",
        "    path=os.path.join(cwd,repo_name) \n",
        "    print(path)\n",
        "    \n",
        "    if  not os.path.exists(path):\n",
        "      git.Git(cwd).clone(url)\n",
        "    \n",
        "    else:    \n",
        "      user_input=input(\"Non_Empty directory, replace? press y for Yes, n for No:\")\n",
        "      if user_input==\"y\":\n",
        "        shutil.rmtree(path)\n",
        "        git.Git(cwd).clone(url)\n",
        " \n",
        "    os.chdir(\"/content/yolov5\")\n",
        "    subprocess.check_call([sys.executable, \"-m\", \"pip\", \"install\", \"-r\", \"requirements.txt\"])\n",
        "    os.chdir(\"/content\")\n",
        "    print(\"Requrements installed.\")\n",
        "  \n",
        "  \n",
        "cwd=\"/content/\"\n",
        "Yolo().import_model(cwd)"
      ],
      "execution_count": null,
      "outputs": []
    },
    {
      "cell_type": "code",
      "metadata": {
        "id": "vXz8uzxcirrZ",
        "colab_type": "code",
        "colab": {
          "base_uri": "https://localhost:8080/",
          "height": 35
        },
        "outputId": "a3748ae8-cbd9-4186-92db-b134f64ceb6d"
      },
      "source": [
        "import os\n",
        "path_train_images=os.path.normpath(\"/content/drive/My Drive/Bath thesis/Final-Data/Augmentation Mosaic (3,4)/train_images\")\n",
        "path_valid_images=os.path.normpath(\"/content/drive/My Drive/Bath thesis/Final-Data/Not Augmented/valid_images\")\n",
        "\n",
        "num_train=sum([1 for i in os.listdir(path_train_images)])\n",
        "num_valid=sum([1 for i in os.listdir(path_valid_images)])\n",
        "print(\"There are {} train and {} valid images.\".format(num_train,num_valid))\n",
        "\n",
        "def write_yaml(path_train,path_valid):\n",
        "\n",
        "  num_classes=sum([1 for file in open(\"/content/drive/My Drive/Bath thesis/Final-Data/Not Augmented/classes.txt\")])\n",
        "  label_list=([str(label).strip(\"\\n\") for label in open(\"/content/drive/My Drive/Bath thesis/Final-Data/Not Augmented/classes.txt\")])\n",
        "\n",
        "  with open(os.path.join(\"/content\",\"data.yaml\"),\"wt\") as file:\n",
        "\n",
        "    file.write(\"train: \"+path_train_images+\"\\n\")\n",
        "    file.write(\"val: \"+path_valid_images+\"\\n\")\n",
        "    file.write(\"\\n\")\n",
        "    file.write(\"nc: \"+str(num_classes)+\"\\n\")\n",
        "    file.write(\"names: \"+str(label_list))\n",
        "\n",
        "write_yaml(path_train_images,path_valid_images)\n"
      ],
      "execution_count": null,
      "outputs": [
        {
          "output_type": "stream",
          "text": [
            "There are 1400 train and 200 valid images.\n"
          ],
          "name": "stdout"
        }
      ]
    },
    {
      "cell_type": "markdown",
      "metadata": {
        "id": "TigAmVRr4Fuj",
        "colab_type": "text"
      },
      "source": [
        "## Directory note\n",
        "\n",
        "*   When specifying train_images, _images is replaces with _labels and  the labels are found, so make sure the directories are listed as such.\n",
        "\n",
        "*   An alternative is to have train/images and train/labels, valid/images and valid/labels or images/train,images/valid and labels/train,labels/valid. They key part is when the images are replaced with labels, the right path is found.\n",
        "\n"
      ]
    },
    {
      "cell_type": "code",
      "metadata": {
        "id": "yBdccoUbbT3P",
        "colab_type": "code",
        "colab": {
          "base_uri": "https://localhost:8080/",
          "height": 35
        },
        "outputId": "c23a72fb-92e1-46da-c5f2-449acd2a75a8"
      },
      "source": [
        "import git\n",
        "url=\"https://github.com/karen-gishyan/Computer-vision-and-Drones-Thesis\"\n",
        "try:\n",
        "  git.Git().clone(url)\n",
        "except Exception as e:\n",
        "  print(e)\n",
        "finally:\n",
        "  shutil.rmtree(os.path.split(url)[1])\n",
        "  git.Git().clone(url)\n",
        "  print(\"Done\")"
      ],
      "execution_count": null,
      "outputs": [
        {
          "output_type": "stream",
          "text": [
            "Done\n"
          ],
          "name": "stdout"
        }
      ]
    },
    {
      "cell_type": "code",
      "metadata": {
        "id": "QgzA3S0vZYyo",
        "colab_type": "code",
        "colab": {}
      },
      "source": [
        "#Copying custom config and train to train environment (no augmentation and modified classes).\n",
        "import shutil\n",
        "shutil.copy(\"/content/Computer-vision-and-Drones-Thesis/models/Yolo Config/yolov5l_custom.yaml\",\"/content/yolov5/models\")\n",
        "shutil.copy(\"/content/Computer-vision-and-Drones-Thesis/models/Yolo Config/yolov5_train_custom.py\",\"/content/yolov5\")"
      ],
      "execution_count": null,
      "outputs": []
    },
    {
      "cell_type": "code",
      "metadata": {
        "id": "GYpFcvr0lzA4",
        "colab_type": "code",
        "colab": {}
      },
      "source": [
        "#Downloads automatically pretrained yolov5m and we specify yolov5m.yaml.\n",
        "%%time\n",
        "%cd /content/yolov5/\n",
        "\n",
        "!python yolov5_train_custom.py --img 1056 --batch 2 --epochs 20 --data '../data.yaml' --cfg yolov5l_custom.yaml --weights yolov5l.pt --name yolov5l_results  #--nosave --cache\n"
      ],
      "execution_count": null,
      "outputs": []
    },
    {
      "cell_type": "code",
      "metadata": {
        "id": "Ev87XNsj8kr9",
        "colab_type": "code",
        "colab": {}
      },
      "source": [
        "%load_ext tensorboard\n",
        "%tensorboard --logdir /content/yolov5/runs # if valid loss is high, even when the model learns, there is some overfitting issue."
      ],
      "execution_count": null,
      "outputs": []
    },
    {
      "cell_type": "code",
      "metadata": {
        "id": "eBB34J-QxU93",
        "colab_type": "code",
        "colab": {}
      },
      "source": [
        "#Tensorboard output to csv.\n",
        "#https://stackoverflow.com/questions/42355122/can-i-export-a-tensorflow-summary-to-csv.\n",
        "\n",
        "import os\n",
        "import numpy as np\n",
        "import pandas as pd\n",
        "\n",
        "from collections import defaultdict\n",
        "from tensorboard.backend.event_processing.event_accumulator import EventAccumulator\n",
        "\n",
        "\n",
        "def tabulate_events(dpath):\n",
        "    summary_iterators = [EventAccumulator(os.path.join(dpath, dname)).Reload() for dname in os.listdir(dpath)]\n",
        "\n",
        "    tags = summary_iterators[0].Tags()['scalars']\n",
        "\n",
        "    for it in summary_iterators:\n",
        "        assert it.Tags()['scalars'] == tags\n",
        "\n",
        "    out = defaultdict(list)\n",
        "    steps = []\n",
        "\n",
        "    for tag in tags:\n",
        "        steps = [e.step for e in summary_iterators[0].Scalars(tag)]\n",
        "\n",
        "        for events in zip(*[acc.Scalars(tag) for acc in summary_iterators]):\n",
        "            assert len(set(e.step for e in events)) == 1\n",
        "\n",
        "            out[tag].append([e.value for e in events])\n",
        "\n",
        "    return out, steps\n",
        "\n",
        "\n",
        "def to_csv(dpath):\n",
        "    dirs = os.listdir(dpath)\n",
        "\n",
        "    d, steps = tabulate_events(dpath)\n",
        "    tags, values = zip(*d.items())\n",
        "    np_values = np.array(values)\n",
        "\n",
        "    for index, tag in enumerate(tags):\n",
        "        df = pd.DataFrame(np_values[index], index=steps, columns=dirs)\n",
        "        df.to_csv(get_file_path(dpath, tag))\n",
        "\n",
        "\n",
        "def get_file_path(dpath, tag):\n",
        "    file_name = tag.replace(\"/\", \"_\") + '.csv'\n",
        "    folder_path = os.path.join(dpath, 'csv')\n",
        "    if not os.path.exists(folder_path):\n",
        "        os.makedirs(folder_path)\n",
        "    return os.path.join(folder_path, file_name)\n",
        "\n",
        "\n",
        "if __name__ == '__main__':\n",
        "    path = \"/content/yolov5/runs\"\n",
        "    to_csv(path)"
      ],
      "execution_count": null,
      "outputs": []
    },
    {
      "cell_type": "code",
      "metadata": {
        "id": "BNkGDipb9sqt",
        "colab_type": "code",
        "colab": {}
      },
      "source": [
        "shutil.copy(\"/content/yolov5/runs/exp2_yolov5l_results/weights/yolov5_best with no def aug.pt\",\"/content/drive/My Drive/Bath Thesis/Augmentation Mosaic (3,4)\")"
      ],
      "execution_count": null,
      "outputs": []
    },
    {
      "cell_type": "code",
      "metadata": {
        "id": "gtBvYv7Ek-hc",
        "colab_type": "code",
        "colab": {}
      },
      "source": [
        "#Downloading runs and tesnorflow results..\n",
        "\n",
        "#!zip -r /content/yolov5l_results.zip /content/yolov5/runs/exp0_yolov5l_results\n",
        "!zip -r /content/yolov5l_results_csv.zip /content/yolov5/runs/csv\n",
        "\n",
        "# Copy weights\n",
        "# import shutil\n",
        "#shutil.copytree(\"/content/yolov5/runs/exp2_yolov5l_results\",\"/content/drive/My Drive/Bath Thesis/Augmentation 3 new new/yolov5 resultst\")"
      ],
      "execution_count": null,
      "outputs": []
    },
    {
      "cell_type": "code",
      "metadata": {
        "id": "7hxeMhaDNuC8",
        "colab_type": "code",
        "colab": {
          "base_uri": "https://localhost:8080/",
          "height": 35
        },
        "outputId": "b7e3a513-3bc4-4077-c2b0-c62d9ff5435c"
      },
      "source": [
        "import shutil\n",
        "shutil.copytree(\"/content/drive/My Drive/Bath thesis/Final-Data/Not Augmented/test_images\",\"/content/test_images/images\")\n",
        "#shutil.copy(\"/content/yolov5/runs/exp0_yolov5l_results/weights/best.pt\",\"/content/drive/My Drive/Bath Thesis/Augmentation Mosaic (3,4)\")\n"
      ],
      "execution_count": null,
      "outputs": [
        {
          "output_type": "execute_result",
          "data": {
            "application/vnd.google.colaboratory.intrinsic+json": {
              "type": "string"
            },
            "text/plain": [
              "'/content/test_images/images'"
            ]
          },
          "metadata": {
            "tags": []
          },
          "execution_count": 23
        }
      ]
    },
    {
      "cell_type": "code",
      "metadata": {
        "id": "tEZfX_8PlDc8",
        "colab_type": "code",
        "colab": {
          "base_uri": "https://localhost:8080/",
          "height": 35
        },
        "outputId": "9fc0bec8-1ec5-440f-9050-0743a5138c3a"
      },
      "source": [
        "import shutil\n",
        "shutil.copy(\"/content/drive/My Drive/Bath thesis/Final-Data/Augmentation (3,5) and Blur/trainsfer_learning.pt\",\"/content\")"
      ],
      "execution_count": null,
      "outputs": [
        {
          "output_type": "execute_result",
          "data": {
            "application/vnd.google.colaboratory.intrinsic+json": {
              "type": "string"
            },
            "text/plain": [
              "'/content/trainsfer_learning.pt'"
            ]
          },
          "metadata": {
            "tags": []
          },
          "execution_count": 35
        }
      ]
    },
    {
      "cell_type": "code",
      "metadata": {
        "id": "syNBaEawWA9y",
        "colab_type": "code",
        "colab": {}
      },
      "source": [
        "#Predicting batch of images. For the video, specify the video-path. ,--conf-thres 0.7.\n",
        "!python detect.py --weights /content/trainsfer_learning.pt --source /content/test_images/images --img-size 1056\n",
        "#!python detect.py --weights /content/yolov5/runs/exp0_yolov5l_results/weights/best_yolov5l_results.pt --source /content/images3 \n"
      ],
      "execution_count": null,
      "outputs": []
    },
    {
      "cell_type": "code",
      "metadata": {
        "id": "5K_3YHM2RwRc",
        "colab_type": "code",
        "colab": {}
      },
      "source": [
        "#Zipping predicted images for download.\n",
        "!zip -r /content/yolov5l_inference.zip /content/yolov5/inference/output"
      ],
      "execution_count": null,
      "outputs": []
    }
  ]
}