{
  "nbformat": 4,
  "nbformat_minor": 0,
  "metadata": {
    "colab": {
      "name": "Yolo v5.ipynb",
      "provenance": [],
      "collapsed_sections": []
    },
    "kernelspec": {
      "name": "python3",
      "display_name": "Python 3"
    }
  },
  "cells": [
    {
      "cell_type": "code",
      "metadata": {
        "id": "5qP7em1rT_h1",
        "colab_type": "code",
        "colab": {
          "base_uri": "https://localhost:8080/",
          "height": 124
        },
        "outputId": "cd321bea-c0d7-40ff-e6b0-64bd0f7c82c4"
      },
      "source": [
        "from google.colab import drive\n",
        "drive.mount('/content/drive')"
      ],
      "execution_count": null,
      "outputs": [
        {
          "output_type": "stream",
          "text": [
            "Go to this URL in a browser: https://accounts.google.com/o/oauth2/auth?client_id=947318989803-6bn6qk8qdgf4n4g3pfee6491hc0brc4i.apps.googleusercontent.com&redirect_uri=urn%3aietf%3awg%3aoauth%3a2.0%3aoob&scope=email%20https%3a%2f%2fwww.googleapis.com%2fauth%2fdocs.test%20https%3a%2f%2fwww.googleapis.com%2fauth%2fdrive%20https%3a%2f%2fwww.googleapis.com%2fauth%2fdrive.photos.readonly%20https%3a%2f%2fwww.googleapis.com%2fauth%2fpeopleapi.readonly&response_type=code\n",
            "\n",
            "Enter your authorization code:\n",
            "··········\n",
            "Mounted at /content/drive\n"
          ],
          "name": "stdout"
        }
      ]
    },
    {
      "cell_type": "code",
      "metadata": {
        "id": "vlirtmmZXjBu",
        "colab_type": "code",
        "colab": {
          "base_uri": "https://localhost:8080/",
          "height": 453
        },
        "outputId": "22d98b91-dd6a-42d7-e94f-04bb84d4b18e"
      },
      "source": [
        "!pip install GitPython\n",
        "!pip install --force https://github.com/chengs/tqdm/archive/colab.zip"
      ],
      "execution_count": null,
      "outputs": [
        {
          "output_type": "stream",
          "text": [
            "Collecting GitPython\n",
            "\u001b[?25l  Downloading https://files.pythonhosted.org/packages/f9/1e/a45320cab182bf1c8656107b3d4c042e659742822fc6bff150d769a984dd/GitPython-3.1.7-py3-none-any.whl (158kB)\n",
            "\u001b[K     |████████████████████████████████| 163kB 4.4MB/s \n",
            "\u001b[?25hCollecting gitdb<5,>=4.0.1\n",
            "\u001b[?25l  Downloading https://files.pythonhosted.org/packages/48/11/d1800bca0a3bae820b84b7d813ad1eff15a48a64caea9c823fc8c1b119e8/gitdb-4.0.5-py3-none-any.whl (63kB)\n",
            "\u001b[K     |████████████████████████████████| 71kB 7.0MB/s \n",
            "\u001b[?25hCollecting smmap<4,>=3.0.1\n",
            "  Downloading https://files.pythonhosted.org/packages/b0/9a/4d409a6234eb940e6a78dfdfc66156e7522262f5f2fecca07dc55915952d/smmap-3.0.4-py2.py3-none-any.whl\n",
            "Installing collected packages: smmap, gitdb, GitPython\n",
            "Successfully installed GitPython-3.1.7 gitdb-4.0.5 smmap-3.0.4\n",
            "Collecting https://github.com/chengs/tqdm/archive/colab.zip\n",
            "\u001b[?25l  Downloading https://github.com/chengs/tqdm/archive/colab.zip\n",
            "\u001b[K     | 399kB 1.7MB/s\n",
            "\u001b[?25hBuilding wheels for collected packages: tqdm\n",
            "  Building wheel for tqdm (setup.py) ... \u001b[?25l\u001b[?25hdone\n",
            "  Created wheel for tqdm: filename=tqdm-4.28.1-py2.py3-none-any.whl size=47867 sha256=86af67cd5532fab6626ac37ab5ee8a4daee84ba651703167631f631ea5189c0c\n",
            "  Stored in directory: /tmp/pip-ephem-wheel-cache-sdfuvpsh/wheels/41/18/ee/d5dd158441b27965855b1bbae03fa2d8a91fe645c01b419896\n",
            "Successfully built tqdm\n",
            "\u001b[31mERROR: spacy 2.2.4 has requirement tqdm<5.0.0,>=4.38.0, but you'll have tqdm 4.28.1 which is incompatible.\u001b[0m\n",
            "Installing collected packages: tqdm\n",
            "  Found existing installation: tqdm 4.41.1\n",
            "    Uninstalling tqdm-4.41.1:\n",
            "      Successfully uninstalled tqdm-4.41.1\n",
            "Successfully installed tqdm-4.28.1\n"
          ],
          "name": "stdout"
        }
      ]
    },
    {
      "cell_type": "code",
      "metadata": {
        "id": "942IiqzMUE9i",
        "colab_type": "code",
        "colab": {
          "base_uri": "https://localhost:8080/",
          "height": 52
        },
        "outputId": "f607a29e-ac17-4301-b46f-b37eac6ccfe1"
      },
      "source": [
        "import git\n",
        "import subprocess\n",
        "import shutil\n",
        "import os\n",
        "import sys\n",
        "\n",
        "class Yolo:\n",
        "\n",
        "  def __init__(self,working_dir=None):\n",
        "    self.cwd=working_dir if working_dir != None else \"/content\"\n",
        "  \n",
        "  @staticmethod\n",
        "  def import_model(cwd):\n",
        "\n",
        "    url=\"https://github.com/ultralytics/yolov5\"\n",
        "    repo_name=os.path.basename(url)\n",
        "    path=os.path.join(cwd,repo_name) \n",
        "    print(path)\n",
        "    \n",
        "    if  not os.path.exists(path):\n",
        "      git.Git(cwd).clone(url)\n",
        "    \n",
        "    else:    \n",
        "      user_input=input(\"Non_Empty directory, replace? press y for Yes, n for No:\")\n",
        "      if user_input==\"y\":\n",
        "        shutil.rmtree(path)\n",
        "        git.Git(cwd).clone(url)\n",
        " \n",
        "    os.chdir(\"/content/yolov5\")\n",
        "    subprocess.check_call([sys.executable, \"-m\", \"pip\", \"install\", \"-r\", \"requirements.txt\"])\n",
        "    os.chdir(\"/content\")\n",
        "    print(\"Requrements installed.\")\n",
        "  \n",
        "  \n",
        "cwd=\"/content/\"\n",
        "Yolo().import_model(cwd)"
      ],
      "execution_count": null,
      "outputs": [
        {
          "output_type": "stream",
          "text": [
            "/content/yolov5\n",
            "Requrements installed.\n"
          ],
          "name": "stdout"
        }
      ]
    },
    {
      "cell_type": "code",
      "metadata": {
        "id": "vXz8uzxcirrZ",
        "colab_type": "code",
        "colab": {
          "base_uri": "https://localhost:8080/",
          "height": 35
        },
        "outputId": "64bfb533-c96d-49bd-b4cd-4b8ea2f004ed"
      },
      "source": [
        "import os\n",
        "path_train_images=os.path.normpath(\"/content/drive/My Drive/Bath Thesis/Augmentation 1/train_images\")\n",
        "path_valid_images=os.path.normpath(\"/content/drive/My Drive/Bath Thesis/Not Augmented/valid_images\")\n",
        "\n",
        "num_train=sum([1 for i in os.listdir(path_train_images)])\n",
        "num_valid=sum([1 for i in os.listdir(path_valid_images)])\n",
        "print(\"There are {} train and {} valid images.\".format(num_train,num_valid))\n",
        "\n",
        "def write_yaml(path_train,path_valid):\n",
        "\n",
        "  num_classes=sum([1 for file in open(\"/content/drive/My Drive/Bath Thesis/classes.txt\")])\n",
        "  label_list=([str(label).strip(\"\\n\") for label in open(\"/content/drive/My Drive/Bath Thesis/classes.txt\")])\n",
        "\n",
        "  with open(os.path.join(\"/content\",\"data.yaml\"),\"wt\") as file:\n",
        "\n",
        "    file.write(\"train: \"+path_train_images+\"\\n\")\n",
        "    file.write(\"val: \"+path_valid_images+\"\\n\")\n",
        "    file.write(\"\\n\")\n",
        "    file.write(\"nc: \"+str(num_classes)+\"\\n\")\n",
        "    file.write(\"names: \"+str(label_list))\n",
        "\n",
        "write_yaml(path_train_images,path_valid_images)\n"
      ],
      "execution_count": null,
      "outputs": [
        {
          "output_type": "stream",
          "text": [
            "There are 1400 train and 200 valid images.\n"
          ],
          "name": "stdout"
        }
      ]
    },
    {
      "cell_type": "markdown",
      "metadata": {
        "id": "TigAmVRr4Fuj",
        "colab_type": "text"
      },
      "source": [
        "\n",
        "\n",
        "*   When specifying train_images, _images is replaces with _labels and  the labels are found, so make sure such directories are listed as such.\n",
        "\n",
        "*   An alternative is to have train/images and train/labels, valid/images and valid/labels or images/train images/valid and labels/train,labels/valid.\n",
        "\n"
      ]
    },
    {
      "cell_type": "code",
      "metadata": {
        "id": "GYpFcvr0lzA4",
        "colab_type": "code",
        "colab": {
          "base_uri": "https://localhost:8080/",
          "height": 1000
        },
        "outputId": "9317efb1-c5d7-4827-c64f-d0a061f5e77a"
      },
      "source": [
        "#Downloads automatically pretrained yolov5m and we specify yolov5m.yaml.\n",
        "%%time\n",
        "%cd /content/yolov5/\n",
        "!python train.py --img 352 --batch 8 --epochs 200 --data '../data.yaml' --cfg ./models/yolov5m.yaml --weights yolov5m.pt --name yolov5s_results  #--nosave --cache"
      ],
      "execution_count": null,
      "outputs": [
        {
          "output_type": "stream",
          "text": [
            "/content/yolov5\n",
            "Using CPU\n",
            "\n",
            "Namespace(adam=False, batch_size=8, bucket='', cache_images=False, cfg='./models/yolov5m.yaml', data='../data.yaml', device='', epochs=200, evolve=False, global_rank=-1, hyp='data/hyp.finetune.yaml', img_size=[352, 352], local_rank=-1, logdir='runs/', multi_scale=False, name='yolov5s_results', noautoanchor=False, nosave=False, notest=False, rect=False, resume=False, single_cls=False, sync_bn=False, total_batch_size=8, weights='yolov5m.pt', workers=8, world_size=1)\n",
            "Start Tensorboard with \"tensorboard --logdir runs/\", view at http://localhost:6006/\n",
            "2020-08-21 21:25:24.391667: I tensorflow/stream_executor/platform/default/dso_loader.cc:48] Successfully opened dynamic library libcudart.so.10.1\n",
            "Hyperparameters {'lr0': 0.01, 'momentum': 0.937, 'weight_decay': 0.0005, 'giou': 0.05, 'cls': 0.5, 'cls_pw': 1.0, 'obj': 1.0, 'obj_pw': 1.0, 'iou_t': 0.2, 'anchor_t': 4.0, 'fl_gamma': 0.0, 'hsv_h': 0.015, 'hsv_s': 0.7, 'hsv_v': 0.4, 'degrees': 0.0, 'translate': 0.1, 'scale': 0.5, 'shear': 0.0, 'perspective': 0.0, 'flipud': 0.0, 'fliplr': 0.5, 'mixup': 0.0}\n",
            "Downloading https://github.com/ultralytics/yolov5/releases/download/v3.0/yolov5m.pt to yolov5m.pt...\n",
            "100% 41.9M/41.9M [00:01<00:00, 32.6MB/s]\n",
            "\n",
            "\n",
            "                 from  n    params  module                                  arguments                     \n",
            "  0                -1  1      5280  models.common.Focus                     [3, 48, 3]                    \n",
            "  1                -1  1     41664  models.common.Conv                      [48, 96, 3, 2]                \n",
            "  2                -1  1     67680  models.common.BottleneckCSP             [96, 96, 2]                   \n",
            "  3                -1  1    166272  models.common.Conv                      [96, 192, 3, 2]               \n",
            "  4                -1  1    639168  models.common.BottleneckCSP             [192, 192, 6]                 \n",
            "  5                -1  1    664320  models.common.Conv                      [192, 384, 3, 2]              \n",
            "  6                -1  1   2550144  models.common.BottleneckCSP             [384, 384, 6]                 \n",
            "  7                -1  1   2655744  models.common.Conv                      [384, 768, 3, 2]              \n",
            "  8                -1  1   1476864  models.common.SPP                       [768, 768, [5, 9, 13]]        \n",
            "  9                -1  1   4283136  models.common.BottleneckCSP             [768, 768, 2, False]          \n",
            " 10                -1  1    295680  models.common.Conv                      [768, 384, 1, 1]              \n",
            " 11                -1  1         0  torch.nn.modules.upsampling.Upsample    [None, 2, 'nearest']          \n",
            " 12           [-1, 6]  1         0  models.common.Concat                    [1]                           \n",
            " 13                -1  1   1219968  models.common.BottleneckCSP             [768, 384, 2, False]          \n",
            " 14                -1  1     74112  models.common.Conv                      [384, 192, 1, 1]              \n",
            " 15                -1  1         0  torch.nn.modules.upsampling.Upsample    [None, 2, 'nearest']          \n",
            " 16           [-1, 4]  1         0  models.common.Concat                    [1]                           \n",
            " 17                -1  1    305856  models.common.BottleneckCSP             [384, 192, 2, False]          \n",
            " 18                -1  1    332160  models.common.Conv                      [192, 192, 3, 2]              \n",
            " 19          [-1, 14]  1         0  models.common.Concat                    [1]                           \n",
            " 20                -1  1   1072512  models.common.BottleneckCSP             [384, 384, 2, False]          \n",
            " 21                -1  1   1327872  models.common.Conv                      [384, 384, 3, 2]              \n",
            " 22          [-1, 10]  1         0  models.common.Concat                    [1]                           \n",
            " 23                -1  1   4283136  models.common.BottleneckCSP             [768, 768, 2, False]          \n",
            " 24      [17, 20, 23]  1     48492  models.yolo.Detect                      [7, [[10, 13, 16, 30, 33, 23], [30, 61, 62, 45, 59, 119], [116, 90, 156, 198, 373, 326]], [192, 384, 768]]\n",
            "Model Summary: 263 layers, 2.15101e+07 parameters, 2.15101e+07 gradients\n",
            "\n",
            "Transferred 506/514 items from yolov5m.pt\n",
            "Optimizer groups: 86 .bias, 94 conv.weight, 83 other\n",
            "Scanning labels /content/drive/My Drive/Bath Thesis/Augmentation 1/train_labels.cache (1400 found, 0 missing, 0 empty, 0 duplicate, for 1400 images): 1400it [00:00, 11145.87it/s]\n",
            "Scanning images: 100% 200/200 [00:52<00:00,  3.80it/s]\n",
            "Scanning labels /content/drive/My Drive/Bath Thesis/Not Augmented/valid_labels.cache (200 found, 0 missing, 0 empty, 0 duplicate, for 200 images): 200it [00:00, 10992.23it/s]\n",
            "\n",
            "Analyzing anchors... anchors/target = 1.66, Best Possible Recall (BPR) = 0.7616. Attempting to generate improved anchors, please wait...\n",
            "WARNING: Extremely small objects found. 22198 of 80618 labels are < 3 pixels in width or height.\n",
            "Running kmeans for 9 anchors on 78776 points...\n",
            "thr=0.25: 0.9990 best possible recall, 5.47 anchors past thr\n",
            "n=9, img_size=352, metric_all=0.350/0.729-mean/best, past_thr=0.481-mean: 3,3,  3,6,  8,5,  6,10,  9,15,  16,9,  17,24,  29,15,  46,36\n",
            "Evolving anchors with Genetic Algorithm: fitness = 0.7636: 100% 1000/1000 [00:28<00:00, 34.60it/s]\n",
            "thr=0.25: 0.9997 best possible recall, 5.97 anchors past thr\n",
            "n=9, img_size=352, metric_all=0.373/0.757-mean/best, past_thr=0.483-mean: 3,3,  2,4,  3,7,  5,5,  5,11,  12,6,  11,14,  22,11,  28,25\n",
            "New anchors saved to model. Update model *.yaml to use these anchors in the future.\n",
            "\n",
            "Image sizes 352 train, 352 test\n",
            "Using 2 dataloader workers\n",
            "Starting training for 200 epochs...\n",
            "\n",
            "     Epoch   gpu_mem      GIoU       obj       cls     total   targets  img_size\n",
            "     0/199        0G    0.1847   0.06423   0.05695    0.3059       659       352:  23% 41/175 [07:19<23:14, 10.41s/it]"
          ],
          "name": "stdout"
        }
      ]
    },
    {
      "cell_type": "code",
      "metadata": {
        "id": "gtBvYv7Ek-hc",
        "colab_type": "code",
        "colab": {
          "base_uri": "https://localhost:8080/",
          "height": 644
        },
        "outputId": "0caeeb44-8f47-49b2-8890-0cd6f0b3a9bb"
      },
      "source": [
        "!zip -r /content/file.zip /content/yolov5/runs"
      ],
      "execution_count": null,
      "outputs": [
        {
          "output_type": "stream",
          "text": [
            "  adding: content/yolov5/runs/ (stored 0%)\n",
            "  adding: content/yolov5/runs/exp3_yolov5s_results/ (stored 0%)\n",
            "  adding: content/yolov5/runs/exp3_yolov5s_results/hyp.yaml (deflated 42%)\n",
            "  adding: content/yolov5/runs/exp3_yolov5s_results/events.out.tfevents.1596983645.e2c511d9c86a.829.0 (deflated 5%)\n",
            "  adding: content/yolov5/runs/exp3_yolov5s_results/weights/ (stored 0%)\n",
            "  adding: content/yolov5/runs/exp3_yolov5s_results/opt.yaml (deflated 46%)\n",
            "  adding: content/yolov5/runs/exp1_yolov5s_results/ (stored 0%)\n",
            "  adding: content/yolov5/runs/exp1_yolov5s_results/hyp.yaml (deflated 42%)\n",
            "  adding: content/yolov5/runs/exp1_yolov5s_results/weights/ (stored 0%)\n",
            "  adding: content/yolov5/runs/exp1_yolov5s_results/opt.yaml (deflated 46%)\n",
            "  adding: content/yolov5/runs/exp1_yolov5s_results/events.out.tfevents.1596983417.e2c511d9c86a.735.0 (deflated 5%)\n",
            "  adding: content/yolov5/runs/exp0_yolov5s_results/ (stored 0%)\n",
            "  adding: content/yolov5/runs/exp0_yolov5s_results/events.out.tfevents.1596983361.e2c511d9c86a.692.0 (deflated 5%)\n",
            "  adding: content/yolov5/runs/exp0_yolov5s_results/hyp.yaml (deflated 42%)\n",
            "  adding: content/yolov5/runs/exp0_yolov5s_results/weights/ (stored 0%)\n",
            "  adding: content/yolov5/runs/exp0_yolov5s_results/opt.yaml (deflated 46%)\n",
            "  adding: content/yolov5/runs/exp4_yolov5s_results/ (stored 0%)\n",
            "  adding: content/yolov5/runs/exp4_yolov5s_results/test_batch0_gt.jpg (deflated 0%)\n",
            "  adding: content/yolov5/runs/exp4_yolov5s_results/train_batch2.jpg (deflated 5%)\n",
            "  adding: content/yolov5/runs/exp4_yolov5s_results/train_batch0.jpg (deflated 5%)\n",
            "  adding: content/yolov5/runs/exp4_yolov5s_results/hyp.yaml (deflated 42%)\n",
            "  adding: content/yolov5/runs/exp4_yolov5s_results/train_batch1.jpg (deflated 6%)\n",
            "  adding: content/yolov5/runs/exp4_yolov5s_results/results.txt (deflated 77%)\n",
            "  adding: content/yolov5/runs/exp4_yolov5s_results/weights/ (stored 0%)\n",
            "  adding: content/yolov5/runs/exp4_yolov5s_results/weights/last.pt (deflated 8%)\n",
            "  adding: content/yolov5/runs/exp4_yolov5s_results/weights/best.pt (deflated 7%)\n",
            "  adding: content/yolov5/runs/exp4_yolov5s_results/events.out.tfevents.1596983677.e2c511d9c86a.849.0 (deflated 4%)\n",
            "  adding: content/yolov5/runs/exp4_yolov5s_results/opt.yaml (deflated 46%)\n",
            "  adding: content/yolov5/runs/exp4_yolov5s_results/labels.png (deflated 4%)\n",
            "  adding: content/yolov5/runs/exp4_yolov5s_results/test_batch0_pred.jpg (deflated 0%)\n",
            "  adding: content/yolov5/runs/exp2_yolov5s_results/ (stored 0%)\n",
            "  adding: content/yolov5/runs/exp2_yolov5s_results/hyp.yaml (deflated 42%)\n",
            "  adding: content/yolov5/runs/exp2_yolov5s_results/weights/ (stored 0%)\n",
            "  adding: content/yolov5/runs/exp2_yolov5s_results/opt.yaml (deflated 46%)\n",
            "  adding: content/yolov5/runs/exp2_yolov5s_results/events.out.tfevents.1596983498.e2c511d9c86a.788.0 (deflated 5%)\n"
          ],
          "name": "stdout"
        }
      ]
    }
  ]
}