{
  "nbformat": 4,
  "nbformat_minor": 0,
  "metadata": {
    "colab": {
      "name": "Yolo v3.ipynb",
      "provenance": [],
      "collapsed_sections": []
    },
    "kernelspec": {
      "name": "python3",
      "display_name": "Python 3"
    },
    "accelerator": "GPU"
  },
  "cells": [
    {
      "cell_type": "code",
      "metadata": {
        "id": "CU72Byupi4Xq",
        "colab_type": "code",
        "colab": {}
      },
      "source": [
        "from google.colab import drive\n",
        "drive.mount('/content/drive')"
      ],
      "execution_count": null,
      "outputs": []
    },
    {
      "cell_type": "code",
      "metadata": {
        "id": "gLvoVZHiaQ-4",
        "colab_type": "code",
        "colab": {}
      },
      "source": [
        "#Importing the model.\n",
        "!pip install GitPython\n",
        "!pip install --force https://github.com/chengs/tqdm/archive/colab.zip"
      ],
      "execution_count": null,
      "outputs": []
    },
    {
      "cell_type": "code",
      "metadata": {
        "id": "7A5SxD4APA_A",
        "colab_type": "code",
        "colab": {}
      },
      "source": [
        "import git\n",
        "url=\"https://github.com/karen-gishyan/Computer-vision-and-Drones-Thesis\"\n",
        "git.Git().clone(url)"
      ],
      "execution_count": null,
      "outputs": []
    },
    {
      "cell_type": "markdown",
      "metadata": {
        "id": "iO8jvxc7OoWC",
        "colab_type": "text"
      },
      "source": [
        ""
      ]
    },
    {
      "cell_type": "code",
      "metadata": {
        "id": "uFJoyoC-jRV6",
        "colab_type": "code",
        "colab": {
          "base_uri": "https://localhost:8080/",
          "height": 52
        },
        "outputId": "3db4a3cc-5fe4-446f-c76e-f1d255c1e477"
      },
      "source": [
        "import git\n",
        "import subprocess\n",
        "import shutil\n",
        "import os\n",
        "import sys\n",
        "\n",
        "class Yolo:\n",
        "\n",
        "  def __init__(self,working_dir=None):\n",
        "    self.cwd=working_dir if working_dir != None else \"/content\"\n",
        "  \n",
        "  @staticmethod\n",
        "  def import_model(cwd):\n",
        "\n",
        "    url=\"https://github.com/ultralytics/yolov3\"\n",
        "    repo_name=os.path.basename(url)\n",
        "    path=os.path.join(cwd,repo_name) \n",
        "    print(path)\n",
        "    \n",
        "    if  not os.path.exists(path):\n",
        "      git.Git(cwd).clone(url)\n",
        "    \n",
        "    else:    \n",
        "      user_input=input(\"Non_Empty directory, replace? press y for Yes, n for No:\")\n",
        "      if user_input==\"y\":\n",
        "        shutil.rmtree(path)\n",
        "        git.Git(cwd).clone(url)\n",
        " \n",
        "    os.chdir(\"/content/yolov3\")\n",
        "    subprocess.check_call([sys.executable, \"-m\", \"pip\", \"install\", \"-r\", \"requirements.txt\"])\n",
        "    os.chdir(\"/content\")\n",
        "    print(\"Requrements installed.\")\n",
        "  \n",
        "  \n",
        "cwd=\"/content/\"\n",
        "Yolo().import_model(cwd)"
      ],
      "execution_count": 6,
      "outputs": [
        {
          "output_type": "stream",
          "text": [
            "/content/yolov3\n",
            "Requrements installed.\n"
          ],
          "name": "stdout"
        }
      ]
    },
    {
      "cell_type": "code",
      "metadata": {
        "id": "7OkqieETk7gR",
        "colab_type": "code",
        "colab": {
          "base_uri": "https://localhost:8080/",
          "height": 52
        },
        "outputId": "e06a11b3-e1a0-47ce-ced3-65fbe01d11f9"
      },
      "source": [
        "#Create a txt file with image paths for train and valid.\n",
        "\n",
        "import os\n",
        "path_train_images=os.path.normpath(\"/content/drive/My Drive/Bath Thesis/Augmentation 1/train_images\")\n",
        "path_valid_images=os.path.normpath(\"/content/drive/My Drive/Bath Thesis/Not Augmented/valid_images\")\n",
        "\n",
        "def txt_with_paths(path_train,path_valid):\n",
        "      \n",
        "      print (\"Number of Training Images is:\",len([file for file  in os.listdir(path_train)]))\n",
        "      print (\"Number of Validation Images is:\",len([file for file  in os.listdir(path_valid)]))\n",
        "\n",
        "      with open(os.path.join(\"/content\",\"train.txt\"),\"wt\") as train, open(os.path.join(\"/content\",\"valid.txt\"),\"wt\") as valid:\n",
        "            \n",
        "        for train_image in os.listdir(path_train_images):\n",
        "    \n",
        "          train_image_path=os.path.join(path_train_images,train_image)\n",
        "          train.write(train_image_path+\"\\n\")\n",
        "          \n",
        "        for valid_image in os.listdir(path_valid_images):\n",
        "          valid_image_path=os.path.join(path_valid_images,valid_image)        \n",
        "          valid.write(valid_image_path+ \"\\n\")\n",
        "\n",
        "txt_with_paths(path_train_images,path_valid_images)"
      ],
      "execution_count": 7,
      "outputs": [
        {
          "output_type": "stream",
          "text": [
            "Number of Training Images is: 1400\n",
            "Number of Validation Images is: 200\n"
          ],
          "name": "stdout"
        }
      ]
    },
    {
      "cell_type": "code",
      "metadata": {
        "id": "0ds4gwwnIUCc",
        "colab_type": "code",
        "colab": {}
      },
      "source": [
        "#Creating .data file.\n",
        "\n",
        "def create_data(path_to_train_txt,path_to_valid_txt,path_to_class_names):\n",
        "  number_of_classes=str(sum(1 for line in open(path_to_class_names)))\n",
        "  \n",
        "  with open(os.path.join(\"/content\",\"labels.names\"),\"wt\") as file:\n",
        "    with open(path_to_class_names,\"r\") as file2:\n",
        "      for i in file2:\n",
        "        file.write(i)\n",
        "  \n",
        "  data_path=os.path.join(\"/content\",\"data.data\")\n",
        "  with open(data_path,\"wt\") as data:\n",
        "    data.write(\"classes=\"+number_of_classes+\"\\n\")\n",
        "    data.write(\"train=\"+path_to_train_txt+\"\\n\")\n",
        "    data.write(\"valid=\"+path_to_valid_txt+\"\\n\")\n",
        "    data.write(\"names=\"+\"/content/labels.names\"+\"\\n\")\n",
        "  \n",
        "\n",
        "train_path=\"/content/train.txt\"\n",
        "valid_path=\"/content/valid.txt\"\n",
        "labels=\"/content/drive/My Drive/Bath Thesis/classes.txt\"\n",
        "\n",
        "create_data(train_path,valid_path,labels)\n",
        "\n",
        "for line in open(\"/content/data.data\"):  \n",
        "  print(line)"
      ],
      "execution_count": null,
      "outputs": []
    },
    {
      "cell_type": "code",
      "metadata": {
        "id": "5gAX0B9SPSpf",
        "colab_type": "code",
        "colab": {}
      },
      "source": [
        "#Copying custom config and train to train environment.\n",
        "shutil.copy(\"/content/Computer-vision-and-Drones-Thesis/models/Yolo Config/yolov3-spp-custom.cfg\",\"/content/yolov5/cfg\")\n",
        "shutil.copy(\"/content/Computer-vision-and-Drones-Thesis/models/Yolo Config/yolov3_train_custom.py\",\"/content/yolov5\")"
      ],
      "execution_count": null,
      "outputs": []
    },
    {
      "cell_type": "code",
      "metadata": {
        "id": "Z54QUpinfSLr",
        "colab_type": "code",
        "colab": {}
      },
      "source": [
        "#By default pretrained --weights yolov3-spp-ultralytics.pt is used to initialize your model.\n",
        "\n",
        "# In the weights, only one default weight is provided (transfer learning is used),although there are multiple models. \n",
        "#Thus, to be able to use other models, you either need to pretrain from scratch, or have the innitialization weights provided.\n",
        "#\"weights/yolov3-spp-ultralytics.pt is not compatible with cfg/yolov3-tiny.cfg. Specify --weights '' or specify a --cfg compatible with weights/yolov3-spp-ultralytics.pt."
      ],
      "execution_count": null,
      "outputs": []
    },
    {
      "cell_type": "code",
      "metadata": {
        "id": "rcdXBY4JVEWt",
        "colab_type": "code",
        "colab": {}
      },
      "source": [
        "#Training.\n",
        "#image size-multiple of 16.\n",
        "#img size 352,the closest resolution to 360.\n",
        "# when weights not '' uses availables pretrained weights.\n",
        "#!python3 train.py --img 320 --cfg cfg/yolov3-tiny.cfg --data /content/data.data --epochs 5 --weights ''\n",
        "\n",
        "import os\n",
        "os.chdir(\"/content/yolov3\")\n",
        "\n",
        "!python3 train.py --img 352 --cfg cfg/yolov3-spp-custom.cfg --data /content/data.data --epochs 200  --name yolov3_results\n"
      ],
      "execution_count": null,
      "outputs": []
    },
    {
      "cell_type": "code",
      "metadata": {
        "id": "KCloiCX-Ecnr",
        "colab_type": "code",
        "colab": {}
      },
      "source": [
        "#Video object detection\n",
        "import shutil\n",
        "shutil.copy(\"/content/drive/My Drive/Bath Thesis/classes.txt\",\"/content\")\n",
        "%cd /content/yolov3/\n",
        "\n",
        "!python detect.py --cfg cfg/yolov3-spp-custom.cfg  --weights weights/best_yolov3_results.pt --source /content/high_quality.mp4 --names=/content/classes.txt --conf-thres 0.7 --img-size 1024"
      ],
      "execution_count": null,
      "outputs": []
    }
  ]
}